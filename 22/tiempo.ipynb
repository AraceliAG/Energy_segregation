{
 "cells": [
  {
   "cell_type": "code",
   "execution_count": 1,
   "metadata": {},
   "outputs": [
    {
     "name": "stdout",
     "output_type": "stream",
     "text": [
      "El archivo se ha modificado y guardado como 'archivo_modificado.csv'.\n"
     ]
    },
    {
     "name": "stderr",
     "output_type": "stream",
     "text": [
      "C:\\Users\\cesar chavez\\AppData\\Local\\Temp\\ipykernel_6048\\1532684762.py:8: UserWarning: Parsing dates in %m/%d/%Y %H:%M:%S format when dayfirst=True was specified. Pass `dayfirst=False` or specify a format to silence this warning.\n",
      "  df['Time Bucket (America/Costa_Rica)'] = pd.to_datetime(df['Time Bucket (America/Costa_Rica)'], errors='coerce', dayfirst=True)\n"
     ]
    }
   ],
   "source": [
    "import pandas as pd\n",
    "\n",
    "# Leer el archivo CSV\n",
    "archivo_csv = \"EF63E8-UTEM_CIER_DAVID-1DAY_amp.csv\"\n",
    "df = pd.read_csv(archivo_csv)\n",
    "\n",
    "# Convertir la columna de tiempo a formato datetime, si es necesario\n",
    "df['Time Bucket (America/Costa_Rica)'] = pd.to_datetime(df['Time Bucket (America/Costa_Rica)'], errors='coerce', dayfirst=True)\n",
    "\n",
    "# Formatear la columna de tiempo para añadir los segundos \":00\"\n",
    "df['Time Bucket (America/Costa_Rica)'] = df['Time Bucket (America/Costa_Rica)'].dt.strftime('%m/%d/%Y %H:%M:%S')\n",
    "\n",
    "# Guardar los cambios en un nuevo archivo CSV\n",
    "df.to_csv(\"EF63E8-UTEM_CIER_DAVID-1DAY_amp.csv\", index=False)\n",
    "\n",
    "print(\"El archivo se ha modificado y guardado como 'archivo_modificado.csv'.\")\n"
   ]
  },
  {
   "cell_type": "code",
   "execution_count": 1,
   "metadata": {},
   "outputs": [
    {
     "name": "stdout",
     "output_type": "stream",
     "text": [
      "Reemplazo completado y cambios guardados en '1min.csv'.\n"
     ]
    },
    {
     "name": "stderr",
     "output_type": "stream",
     "text": [
      "C:\\Users\\cesar chavez\\AppData\\Local\\Temp\\ipykernel_16016\\3302641717.py:8: FutureWarning: Downcasting behavior in `replace` is deprecated and will be removed in a future version. To retain the old behavior, explicitly call `result.infer_objects(copy=False)`. To opt-in to the future behavior, set `pd.set_option('future.no_silent_downcasting', True)`\n",
      "  df.replace('No CT', 0, inplace=True)\n"
     ]
    }
   ],
   "source": [
    "import pandas as pd\n",
    "\n",
    "# Cargar el archivo CSV\n",
    "nombre_archivo = '1min.csv'\n",
    "df = pd.read_csv(nombre_archivo)\n",
    "\n",
    "# Reemplazar todas las celdas que contengan 'No CT' por 0\n",
    "df.replace('No CT', 0, inplace=True)\n",
    "\n",
    "# Guardar los cambios en el mismo archivo\n",
    "df.to_csv(nombre_archivo, index=False)\n",
    "\n",
    "print(f\"Reemplazo completado y cambios guardados en '{nombre_archivo}'.\")\n"
   ]
  },
  {
   "cell_type": "code",
   "execution_count": 5,
   "metadata": {},
   "outputs": [
    {
     "name": "stdout",
     "output_type": "stream",
     "text": [
      "El archivo ha sido guardado como 'sala_de_maestros2.csv' con el nuevo formato de fecha.\n"
     ]
    }
   ],
   "source": [
    "import pandas as pd\n",
    "\n",
    "# Nombre del archivo CSV original y el de salida\n",
    "archivo_entrada = \"sala_de_maestros.csv\"\n",
    "archivo_salida = \"sala_de_maestros2.csv\"\n",
    "\n",
    "# Leer el archivo CSV\n",
    "df = pd.read_csv(archivo_entrada)\n",
    "\n",
    "# Asegurarse de que la columna de tiempo esté correctamente nombrada y convertirla\n",
    "# Cambia 'fecha' por el nombre de la columna que contiene la fecha en tu archivo\n",
    "df['Time Bucket (America/Costa_Rica)'] = pd.to_datetime(df['Time Bucket (America/Costa_Rica)'], format='%d/%m/%Y %H:%M:%S', errors='coerce')\n",
    "\n",
    "# Verificar si hay valores NaT y eliminarlos si es necesario (opcional)\n",
    "df = df.dropna(subset=['Time Bucket (America/Costa_Rica)'])\n",
    "\n",
    "# Convertir la columna de tiempo al nuevo formato\n",
    "df['Time Bucket (America/Costa_Rica)'] = df['Time Bucket (America/Costa_Rica)'].dt.strftime('%d-%m-%Y %H:%M:%S')\n",
    "\n",
    "# Guardar el DataFrame con la columna de tiempo ajustada a un nuevo archivo CSV\n",
    "df.to_csv(archivo_salida, index=False)\n",
    "\n",
    "print(f\"El archivo ha sido guardado como '{archivo_salida}' con el nuevo formato de fecha.\")\n"
   ]
  }
 ],
 "metadata": {
  "kernelspec": {
   "display_name": "base",
   "language": "python",
   "name": "python3"
  },
  "language_info": {
   "codemirror_mode": {
    "name": "ipython",
    "version": 3
   },
   "file_extension": ".py",
   "mimetype": "text/x-python",
   "name": "python",
   "nbconvert_exporter": "python",
   "pygments_lexer": "ipython3",
   "version": "3.12.3"
  }
 },
 "nbformat": 4,
 "nbformat_minor": 2
}
